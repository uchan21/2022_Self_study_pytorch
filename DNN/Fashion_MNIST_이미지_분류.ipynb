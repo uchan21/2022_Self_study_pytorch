{
 "cells": [
  {
   "cell_type": "code",
   "execution_count": 2,
   "id": "0a33846c",
   "metadata": {},
   "outputs": [],
   "source": [
    "import torch\n",
    "import torch.nn as nn\n",
    "import torch.optim as optim\n",
    "import torch.nn.functional as F\n",
    "from torchvision import transforms, datasets"
   ]
  },
  {
   "cell_type": "markdown",
   "id": "7af8db4f",
   "metadata": {},
   "source": [
    "# Fashion MNIST 이미지 분류하기\n",
    "인공신경망으로 이미지를 분류해봅시다!!\n",
    "---"
   ]
  },
  {
   "cell_type": "code",
   "execution_count": 4,
   "id": "6dc3e2da",
   "metadata": {},
   "outputs": [],
   "source": [
    "USE_CUDA = torch. cuda.is_available() #GPU를 연결합니다.\n",
    "DEVICE = torch.device(\"cuda\" if USE_CUDA else \"cpu\") #GPU를 쓸수있으면 키고 안되면 CPU"
   ]
  },
  {
   "cell_type": "code",
   "execution_count": 5,
   "id": "940364b5",
   "metadata": {},
   "outputs": [],
   "source": [
    "# 하이퍼 파라미터 설정\n",
    "EPOCHS = 30\n",
    "BATCH_SIZE = 64"
   ]
  },
  {
   "cell_type": "code",
   "execution_count": 6,
   "id": "467e74cd",
   "metadata": {},
   "outputs": [],
   "source": [
    "#텐서로 바꾸기 위한 변수\n",
    "transform = transforms.Compose([\n",
    "    transforms.ToTensor()\n",
    "])"
   ]
  },
  {
   "cell_type": "code",
   "execution_count": 7,
   "id": "b19037d4",
   "metadata": {},
   "outputs": [
    {
     "name": "stdout",
     "output_type": "stream",
     "text": [
      "Downloading http://fashion-mnist.s3-website.eu-central-1.amazonaws.com/train-images-idx3-ubyte.gz\n",
      "Downloading http://fashion-mnist.s3-website.eu-central-1.amazonaws.com/train-images-idx3-ubyte.gz to ./.data/FashionMNIST\\raw\\train-images-idx3-ubyte.gz\n"
     ]
    },
    {
     "data": {
      "application/vnd.jupyter.widget-view+json": {
       "model_id": "56419c4949c44a08a9c8d83540088ddb",
       "version_major": 2,
       "version_minor": 0
      },
      "text/plain": [
       "  0%|          | 0/26421880 [00:00<?, ?it/s]"
      ]
     },
     "metadata": {},
     "output_type": "display_data"
    },
    {
     "name": "stdout",
     "output_type": "stream",
     "text": [
      "Extracting ./.data/FashionMNIST\\raw\\train-images-idx3-ubyte.gz to ./.data/FashionMNIST\\raw\n",
      "\n",
      "Downloading http://fashion-mnist.s3-website.eu-central-1.amazonaws.com/train-labels-idx1-ubyte.gz\n",
      "Downloading http://fashion-mnist.s3-website.eu-central-1.amazonaws.com/train-labels-idx1-ubyte.gz to ./.data/FashionMNIST\\raw\\train-labels-idx1-ubyte.gz\n"
     ]
    },
    {
     "data": {
      "application/vnd.jupyter.widget-view+json": {
       "model_id": "91ad7fb79bd9424fb207facb8c021704",
       "version_major": 2,
       "version_minor": 0
      },
      "text/plain": [
       "  0%|          | 0/29515 [00:00<?, ?it/s]"
      ]
     },
     "metadata": {},
     "output_type": "display_data"
    },
    {
     "name": "stdout",
     "output_type": "stream",
     "text": [
      "Extracting ./.data/FashionMNIST\\raw\\train-labels-idx1-ubyte.gz to ./.data/FashionMNIST\\raw\n",
      "\n",
      "Downloading http://fashion-mnist.s3-website.eu-central-1.amazonaws.com/t10k-images-idx3-ubyte.gz\n",
      "Downloading http://fashion-mnist.s3-website.eu-central-1.amazonaws.com/t10k-images-idx3-ubyte.gz to ./.data/FashionMNIST\\raw\\t10k-images-idx3-ubyte.gz\n"
     ]
    },
    {
     "data": {
      "application/vnd.jupyter.widget-view+json": {
       "model_id": "5b453e96b4be47f3a4be0da7ebdd1e1e",
       "version_major": 2,
       "version_minor": 0
      },
      "text/plain": [
       "  0%|          | 0/4422102 [00:00<?, ?it/s]"
      ]
     },
     "metadata": {},
     "output_type": "display_data"
    },
    {
     "name": "stdout",
     "output_type": "stream",
     "text": [
      "Extracting ./.data/FashionMNIST\\raw\\t10k-images-idx3-ubyte.gz to ./.data/FashionMNIST\\raw\n",
      "\n",
      "Downloading http://fashion-mnist.s3-website.eu-central-1.amazonaws.com/t10k-labels-idx1-ubyte.gz\n",
      "Downloading http://fashion-mnist.s3-website.eu-central-1.amazonaws.com/t10k-labels-idx1-ubyte.gz to ./.data/FashionMNIST\\raw\\t10k-labels-idx1-ubyte.gz\n"
     ]
    },
    {
     "data": {
      "application/vnd.jupyter.widget-view+json": {
       "model_id": "db2b4f261efa4cc697fd7908fb0a364d",
       "version_major": 2,
       "version_minor": 0
      },
      "text/plain": [
       "  0%|          | 0/5148 [00:00<?, ?it/s]"
      ]
     },
     "metadata": {},
     "output_type": "display_data"
    },
    {
     "name": "stdout",
     "output_type": "stream",
     "text": [
      "Extracting ./.data/FashionMNIST\\raw\\t10k-labels-idx1-ubyte.gz to ./.data/FashionMNIST\\raw\n",
      "\n"
     ]
    }
   ],
   "source": [
    "#데이터 불러오기\n",
    "trainset = datasets.FashionMNIST(\n",
    "    root = './.data/',\n",
    "    train = True,\n",
    "    download = True,\n",
    "    transform = transform)\n",
    "\n",
    "testset = datasets.FashionMNIST(\n",
    "    root = './.data/',\n",
    "    train = False,\n",
    "    download = True,\n",
    "    transform = transform)"
   ]
  },
  {
   "cell_type": "code",
   "execution_count": 8,
   "id": "134f2f8f",
   "metadata": {},
   "outputs": [],
   "source": [
    "#데이터를 나눠주기!!\n",
    "train_loader = torch.utils.data.DataLoader(\n",
    "    dataset = trainset,\n",
    "    batch_size = BATCH_SIZE,\n",
    "    shuffle = True)\n",
    "test_loader = torch.utils.data.DataLoader(\n",
    "    dataset = testset,\n",
    "    batch_size = BATCH_SIZE,\n",
    "    shuffle = True)"
   ]
  },
  {
   "cell_type": "code",
   "execution_count": 10,
   "id": "b8780e81",
   "metadata": {},
   "outputs": [],
   "source": [
    "#인공신경망 만들기\n",
    "class Net(nn.Module):\n",
    "    def __init__(self):\n",
    "        super(Net,self).__init__()\n",
    "        self.fc1 = nn.Linear(784,256) #28*28의 이미지이므로 784개의 픽셀 정보를 받아온다.\n",
    "        self.fc2 = nn.Linear(256,128)\n",
    "        self.fc3 = nn.Linear(128,10) #10개의 종류로 분류하므로 마지막 레이어의 노드는 10개로 만든다.\n",
    "    def forward(self,x):\n",
    "        x = x.view(-1,784) #이미지 형태를 바꾸고\n",
    "        x = F.relu(self.fc1(x)) #레이어를 이으며 엑티베이션을 해준다.\n",
    "        x = F.relu(self.fc2(x))\n",
    "        x = self.fc3(x)\n",
    "        return x"
   ]
  },
  {
   "cell_type": "code",
   "execution_count": 11,
   "id": "e2bfa665",
   "metadata": {},
   "outputs": [],
   "source": [
    "model = Net().to(DEVICE) #모델을 생성한다.\n",
    "optimizer = optim.SGD(model.parameters(),lr = 0.01) #역전파를 위한 옵티마이저를 설정한다."
   ]
  },
  {
   "cell_type": "code",
   "execution_count": 12,
   "id": "f8735792",
   "metadata": {},
   "outputs": [],
   "source": [
    "def train(model, train_loader, optimizer): #학습을 위한 함수를 만들어 준다.\n",
    "    model.train() #학습 상태로 전환\n",
    "    for batch_idx, (data,target) in enumerate(train_loader): #train_loader에 정보를 이용해 반복한다.\n",
    "        data, target = data.to(DEVICE),target.to(DEVICE) #데이터들을 학습을 돌릴 디바이스에 넣는다.\n",
    "        optimizer.zero_grad() #반복마다 기울기를 새로 설정하기에 zero_grad를 설정해준다.\n",
    "        output = model(data) # 모델에 입력한다\n",
    "        loss = F.cross_entropy(output,target) #분류 오차를 변수에 넣고\n",
    "        loss.backward() #미분해서\n",
    "        optimizer.step() # 학습률 만큼 역전파시킨다.\n",
    "        "
   ]
  },
  {
   "cell_type": "code",
   "execution_count": 14,
   "id": "4febadb5",
   "metadata": {},
   "outputs": [],
   "source": [
    "def evaluate(model, test_loader): #모델 실행 모드 정의이다.\n",
    "    model.eval() #실행 모드로 바꾸고\n",
    "    test_loss = 0 #오차와\n",
    "    correct =0 # 정확도 변수를 만든다.\n",
    "    with torch.no_grad(): # 실행 과정에서 기울기는 계산할 필요가 없다.\n",
    "        for data,target in test_loader: # test_loader에 정보만큼 반복한다.\n",
    "            data, target = data.to(DEVICE),target.to(DEVICE) #정보를 디바이스에 전달하고\n",
    "            output = model(data) # 모델에 입력한다\n",
    "            \n",
    "            #학습하면서 생기는 오차들을 합한다\n",
    "            test_loss +=F.cross_entropy(output,target, reduction='sum').item()\n",
    "            pred = output.max(1,keepdim=True)[1] #가장 큰 값을 가지는 것이 예측값\n",
    "            correct += pred.eq(target.view_as(pred)).sum().item() #예측한게 맞으면 correct에 더해주기\n",
    "    #오차값의 합을 전체 데이터셋으로 나눠주고\n",
    "    test_loss/=len(test_loader.dataset)\n",
    "    \n",
    "    #맞춘 정답의 갯수의 합을 전체 데이터셋으로 나누고 100을 곱해 백분율로 나타내기\n",
    "    test_accuracy = 100.*correct/len(test_loader.dataset)\n",
    "    return test_loss, test_accuracy"
   ]
  },
  {
   "cell_type": "code",
   "execution_count": 16,
   "id": "d860fa86",
   "metadata": {},
   "outputs": [
    {
     "name": "stdout",
     "output_type": "stream",
     "text": [
      "[1] Test Loss: 0.8613, Accuracy: 67.37%\n",
      "[2] Test Loss: 0.6627, Accuracy: 76.24%\n",
      "[3] Test Loss: 0.5883, Accuracy: 78.84%\n",
      "[4] Test Loss: 0.5568, Accuracy: 79.66%\n",
      "[5] Test Loss: 0.5112, Accuracy: 81.75%\n",
      "[6] Test Loss: 0.5251, Accuracy: 80.99%\n",
      "[7] Test Loss: 0.4891, Accuracy: 82.89%\n",
      "[8] Test Loss: 0.5024, Accuracy: 81.75%\n",
      "[9] Test Loss: 0.4889, Accuracy: 82.76%\n",
      "[10] Test Loss: 0.4712, Accuracy: 83.38%\n",
      "[11] Test Loss: 0.4551, Accuracy: 84.03%\n",
      "[12] Test Loss: 0.4378, Accuracy: 84.58%\n",
      "[13] Test Loss: 0.4503, Accuracy: 84.08%\n",
      "[14] Test Loss: 0.4436, Accuracy: 84.37%\n",
      "[15] Test Loss: 0.4338, Accuracy: 84.66%\n",
      "[16] Test Loss: 0.4554, Accuracy: 84.02%\n",
      "[17] Test Loss: 0.4137, Accuracy: 85.33%\n",
      "[18] Test Loss: 0.4280, Accuracy: 85.10%\n",
      "[19] Test Loss: 0.4096, Accuracy: 85.67%\n",
      "[20] Test Loss: 0.4039, Accuracy: 85.75%\n",
      "[21] Test Loss: 0.3997, Accuracy: 85.94%\n",
      "[22] Test Loss: 0.4286, Accuracy: 84.47%\n",
      "[23] Test Loss: 0.4161, Accuracy: 85.25%\n",
      "[24] Test Loss: 0.3988, Accuracy: 85.76%\n",
      "[25] Test Loss: 0.4073, Accuracy: 85.75%\n",
      "[26] Test Loss: 0.3851, Accuracy: 86.26%\n",
      "[27] Test Loss: 0.4045, Accuracy: 85.86%\n",
      "[28] Test Loss: 0.3837, Accuracy: 86.61%\n",
      "[29] Test Loss: 0.3781, Accuracy: 86.71%\n",
      "[30] Test Loss: 0.3787, Accuracy: 86.61%\n"
     ]
    }
   ],
   "source": [
    "#학습 돌리기!!\n",
    "for epoch in range(1,EPOCHS+1):\n",
    "    train(model,train_loader,optimizer)\n",
    "    test_loss, test_accuracy = evaluate(model,test_loader)\n",
    "    \n",
    "    print('[{}] Test Loss: {:.4f}, Accuracy: {:.2f}%'.format(epoch, test_loss, test_accuracy))"
   ]
  },
  {
   "cell_type": "code",
   "execution_count": null,
   "id": "5e1dfe97",
   "metadata": {},
   "outputs": [],
   "source": []
  }
 ],
 "metadata": {
  "kernelspec": {
   "display_name": "Python 3 (ipykernel)",
   "language": "python",
   "name": "python3"
  },
  "language_info": {
   "codemirror_mode": {
    "name": "ipython",
    "version": 3
   },
   "file_extension": ".py",
   "mimetype": "text/x-python",
   "name": "python",
   "nbconvert_exporter": "python",
   "pygments_lexer": "ipython3",
   "version": "3.8.3"
  }
 },
 "nbformat": 4,
 "nbformat_minor": 5
}
