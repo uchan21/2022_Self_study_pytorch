{
 "cells": [
  {
   "cell_type": "code",
   "execution_count": 1,
   "id": "1afd5fdd",
   "metadata": {},
   "outputs": [],
   "source": [
    "import torch\n",
    "import numpy\n",
    "from sklearn.datasets import make_blobs\n",
    "import matplotlib.pyplot as plt\n",
    "import torch.nn.functional as F"
   ]
  },
  {
   "cell_type": "markdown",
   "id": "6ff3762f",
   "metadata": {},
   "source": [
    "# 인공신경망 만들기   \n",
    "pytorch로 인공신경망을 만들어봅시다..!!\n",
    "---"
   ]
  },
  {
   "cell_type": "code",
   "execution_count": 2,
   "id": "e9567806",
   "metadata": {},
   "outputs": [],
   "source": [
    "#인공지능을 학습하고 시험할 데이터셋을 만듭니다!!\n",
    "n_dim = 2\n",
    "x_train, y_train = make_blobs(n_samples=80,n_features=n_dim,centers=[[1,1],[-1,-1],[1,-1],[-1,1]],\n",
    "                             shuffle=True, cluster_std=0.3)\n",
    "x_test, y_test = make_blobs(n_samples=20,n_features=n_dim,centers=[[1,1],[-1,-1],[1,-1],[-1,1]],\n",
    "                           shuffle=True, cluster_std=0.3)"
   ]
  },
  {
   "cell_type": "code",
   "execution_count": 3,
   "id": "f2932d6e",
   "metadata": {},
   "outputs": [],
   "source": [
    "#[1,1]과 [-1,-1]은 0으로 [1,-1]과 [-1,1]은 1로 라벨링을 합니다.\n",
    "def label_map(y_,from_,to_):\n",
    "    y = numpy.copy(y_)\n",
    "    for f in from_:\n",
    "        y[y_==f]=to_\n",
    "    return y\n",
    "\n",
    "y_train = label_map(y_train, [0,1],0)\n",
    "y_train = label_map(y_train,[2,3],1)\n",
    "y_test = label_map(y_test,[0,1],0)\n",
    "y_test = label_map(y_test,[2,3],1)"
   ]
  },
  {
   "cell_type": "code",
   "execution_count": 4,
   "id": "49f241db",
   "metadata": {},
   "outputs": [
    {
     "data": {
      "image/png": "[encoded data removed]",
      "text/plain": [
       "<Figure size 640x480 with 1 Axes>"
      ]
     },
     "metadata": {},
     "output_type": "display_data"
    }
   ],
   "source": [
    "#시각화를 해봅시다!!\n",
    "def vis_data(x,y=None,c='r'):\n",
    "    if y is None:\n",
    "        y = [None]*len(x)\n",
    "    for x_,y_ in zip(x,y):\n",
    "        if y_ is None:\n",
    "            plt.plot(x_[0],x_[1],'*',markerfacecolor='none',\n",
    "                    markeredgecolor=c)\n",
    "        else:\n",
    "            plt.plot(x_[0],x_[1],c+'o'if y_==0 else c+'+')\n",
    "            \n",
    "plt.figure()\n",
    "vis_data(x_train,y_train,c='r')\n",
    "plt.show()"
   ]
  },
  {
   "cell_type": "code",
   "execution_count": 5,
   "id": "16b18e8d",
   "metadata": {},
   "outputs": [],
   "source": [
    "#학습을 돌리기 위해 넘파이 형태를 텐서 형태로 변환해줍니다.\n",
    "x_train = torch.FloatTensor(x_train)\n",
    "x_test = torch.FloatTensor(x_test)\n",
    "y_train = torch.FloatTensor(y_train)\n",
    "y_test = torch.FloatTensor(y_test)"
   ]
  },
  {
   "cell_type": "code",
   "execution_count": 6,
   "id": "6a182798",
   "metadata": {},
   "outputs": [],
   "source": [
    "#학습 모델을 만듭니다!!\n",
    "class NeuralNet(torch.nn.Module): #인공지능 class 만들기\n",
    "    def __init__(self,input_size,hidden_size): #입력층과 은닉층을 받아 초기화합니다.\n",
    "        super(NeuralNet, self).__init__()\n",
    "        self.input_size = input_size\n",
    "        self.hidden_size = hidden_size\n",
    "        \n",
    "        self.linear_1 = torch.nn.Linear(self.input_size, self.hidden_size) #input_size의 노드에서 hidden_size차원의 노드로...!!\n",
    "        self.relu = torch.nn.ReLU() #엑티베이션 = 렐루\n",
    "        self.linear_2 = torch.nn.Linear(self.hidden_size, 1) #hidden_size에서 1차원 노드로...!!\n",
    "        self.sigmoid = torch.nn.Sigmoid() #엑티베이션 = 시그모이드\n",
    "        \n",
    "    def forward(self, input_tensor): #레이어 이어주기\n",
    "        linear1 = self.linear_1(input_tensor)\n",
    "        relu = self.relu(linear1)\n",
    "        linear2 = self.linear_2(relu)\n",
    "        output = self.sigmoid(linear2)\n",
    "        return output"
   ]
  },
  {
   "cell_type": "code",
   "execution_count": 7,
   "id": "5444a1ae",
   "metadata": {},
   "outputs": [],
   "source": [
    "model = NeuralNet(2, 5) \n",
    "#하이퍼 파라미터 설정\n",
    "learning_rate = 0.03\n",
    "\n",
    "#2진분류이므로 바이너리 크로스 엔트로피!!\n",
    "criterion = torch.nn.BCELoss()"
   ]
  },
  {
   "cell_type": "code",
   "execution_count": 8,
   "id": "862c1976",
   "metadata": {},
   "outputs": [],
   "source": [
    "epochs = 2000 #학습은 2000번!"
   ]
  },
  {
   "cell_type": "code",
   "execution_count": 9,
   "id": "139c293f",
   "metadata": {},
   "outputs": [],
   "source": [
    "#확률적 경사하강법으로 loss줄이기\n",
    "optimizer = torch.optim.SGD(model.parameters(),lr = learning_rate)"
   ]
  },
  {
   "cell_type": "code",
   "execution_count": 10,
   "id": "779c3551",
   "metadata": {},
   "outputs": [
    {
     "name": "stdout",
     "output_type": "stream",
     "text": [
      "Before Training, test loss is 0.6701405644416809\n"
     ]
    }
   ],
   "source": [
    "#모델 학습시키기전 성능체크\n",
    "model.eval() #모델 키고\n",
    "test_loss_before = criterion(model(x_test).squeeze(),y_test) #모델에 x_test넣고 squeeze()로 차원 맞춰서 y_test와 오차 계산하기\n",
    "print('Before Training, test loss is {}'.format(test_loss_before.item())) #출력..!!"
   ]
  },
  {
   "cell_type": "code",
   "execution_count": 11,
   "id": "1f488f61",
   "metadata": {},
   "outputs": [
    {
     "name": "stdout",
     "output_type": "stream",
     "text": [
      "Train loss at 0 is 0.6605849862098694\n",
      "Train loss at 100 is 0.5664416551589966\n",
      "Train loss at 200 is 0.4544237554073334\n",
      "Train loss at 300 is 0.35328030586242676\n",
      "Train loss at 400 is 0.27712133526802063\n",
      "Train loss at 500 is 0.2236335724592209\n",
      "Train loss at 600 is 0.18622590601444244\n",
      "Train loss at 700 is 0.16048698127269745\n",
      "Train loss at 800 is 0.1408158242702484\n",
      "Train loss at 900 is 0.12523594498634338\n",
      "Train loss at 1000 is 0.11264507472515106\n",
      "Train loss at 1100 is 0.10224200785160065\n",
      "Train loss at 1200 is 0.09345990419387817\n",
      "Train loss at 1300 is 0.08592589199542999\n",
      "Train loss at 1400 is 0.0795283168554306\n",
      "Train loss at 1500 is 0.07405266910791397\n",
      "Train loss at 1600 is 0.06927879899740219\n",
      "Train loss at 1700 is 0.06504632532596588\n",
      "Train loss at 1800 is 0.06126440316438675\n",
      "Train loss at 1900 is 0.05787670612335205\n"
     ]
    }
   ],
   "source": [
    "#모델 학습시키기\n",
    "for epoch in range(epochs): #에포크만큼 반복\n",
    "    model.train() # 학습모드로 전환\n",
    "    optimizer.zero_grad() #반복할 때마다 새로운 경사값을 계산하므로 zero_grad()\n",
    "    train_output = model(x_train) #x_train을 넣고 결과 확인\n",
    "    train_loss = criterion(train_output.squeeze(),y_train) #사이즈 맞춰서 오차보기\n",
    "    if epoch % 100 == 0: # 100마다 출력!!\n",
    "        print('Train loss at {} is {}'.format(epoch, train_loss.item()))\n",
    "    train_loss.backward() #오차 미분해서\n",
    "    optimizer.step() #러닝레이트만큼 이동하기 - 역전파! (이거 안하면 학습이 안됨)"
   ]
  },
  {
   "cell_type": "code",
   "execution_count": 12,
   "id": "72ea104b",
   "metadata": {},
   "outputs": [
    {
     "name": "stdout",
     "output_type": "stream",
     "text": [
      "After Training, test loss is 0.056919775903224945\n"
     ]
    }
   ],
   "source": [
    "model.eval() #모델 키고\n",
    "test_loss_before = criterion(torch.squeeze(model(x_test)),y_test) #test사이즈 맞춰서 오차 구하기\n",
    "print('After Training, test loss is {}'.format(test_loss_before.item())) #오차는...?!"
   ]
  },
  {
   "cell_type": "code",
   "execution_count": 13,
   "id": "196e7e77",
   "metadata": {},
   "outputs": [
    {
     "name": "stdout",
     "output_type": "stream",
     "text": [
      "state_dict format of the model: OrderedDict([('linear_1.weight', tensor([[-0.8482, -1.0388],\n",
      "        [ 1.7410,  1.0206],\n",
      "        [-1.2899, -1.8330],\n",
      "        [ 1.4740, -1.2973],\n",
      "        [ 1.2564,  0.7174]])), ('linear_1.bias', tensor([-0.2695, -0.2435, -0.2506, -0.2682, -0.1507])), ('linear_2.weight', tensor([[-1.1363, -1.9009, -2.0857,  1.7513, -1.4353]])), ('linear_2.bias', tensor([2.2687]))])\n"
     ]
    }
   ],
   "source": [
    "torch.save(model.state_dict(),'./model_jess1.pt') #모델 저장하기!!!\n",
    "print('state_dict format of the model: {}'.format(model.state_dict())) #저장한 모델의 정보"
   ]
  },
  {
   "cell_type": "code",
   "execution_count": 14,
   "id": "789b48e6",
   "metadata": {},
   "outputs": [
    {
     "data": {
      "text/plain": [
       "<All keys matched successfully>"
      ]
     },
     "execution_count": 14,
     "metadata": {},
     "output_type": "execute_result"
    }
   ],
   "source": [
    "new_model = NeuralNet(2,5) #모델 만들고\n",
    "new_model.load_state_dict(torch.load('./model_jess1.pt')) #방금 만든 모델 불러오기"
   ]
  },
  {
   "cell_type": "code",
   "execution_count": 15,
   "id": "4540ddfe",
   "metadata": {},
   "outputs": [
    {
     "name": "stdout",
     "output_type": "stream",
     "text": [
      "벡터 [-1,1]이 레이블 1을 가질 확률은 0.9062548279762268\n"
     ]
    }
   ],
   "source": [
    "new_model.eval() #모델 켜주고\n",
    "print('벡터 [-1,1]이 레이블 1을 가질 확률은 {}'.format(new_model(torch.FloatTensor([-1,1])).item())) #TEST!!"
   ]
  },
  {
   "cell_type": "code",
   "execution_count": 16,
   "id": "5f08d597",
   "metadata": {},
   "outputs": [
    {
     "data": {
      "text/plain": [
       "<All keys matched successfully>"
      ]
     },
     "execution_count": 16,
     "metadata": {},
     "output_type": "execute_result"
    }
   ],
   "source": [
    "old_model = NeuralNet(2,5) #모델 만들고\n",
    "old_model.load_state_dict(torch.load('./model.pt')) #이건 이 책의 저자의 git에 있던 모델,,"
   ]
  },
  {
   "cell_type": "code",
   "execution_count": 17,
   "id": "e027f7ff",
   "metadata": {},
   "outputs": [
    {
     "name": "stdout",
     "output_type": "stream",
     "text": [
      "기존 모델의 확률은...?: 0.9861199855804443\n"
     ]
    }
   ],
   "source": [
    "old_model.eval() #모델 키고\n",
    "print('기존 모델의 확률은...?: {}'.format(old_model(torch.FloatTensor([-1,1])).item())) #성능 확인!!"
   ]
  },
  {
   "cell_type": "code",
   "execution_count": null,
   "id": "bdde4484",
   "metadata": {},
   "outputs": [],
   "source": []
  }
 ],
 "metadata": {
  "kernelspec": {
   "display_name": "Python 3 (ipykernel)",
   "language": "python",
   "name": "python3"
  },
  "language_info": {
   "codemirror_mode": {
    "name": "ipython",
    "version": 3
   },
   "file_extension": ".py",
   "mimetype": "text/x-python",
   "name": "python",
   "nbconvert_exporter": "python",
   "pygments_lexer": "ipython3",
   "version": "3.8.3"
  },
  "vscode": {
   "interpreter": {
    "hash": "66eba28a75a64fbe1a9b9c30d27f7c856726c51cbbef86297708eae4ce175db0"
   }
  }
 },
 "nbformat": 4,
 "nbformat_minor": 5
}
