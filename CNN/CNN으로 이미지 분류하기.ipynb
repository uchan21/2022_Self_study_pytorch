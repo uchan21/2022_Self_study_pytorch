{
 "cells": [
  {
   "cell_type": "code",
   "execution_count": 1,
   "id": "632b3f65",
   "metadata": {},
   "outputs": [],
   "source": [
    "import torch\n",
    "import torch.nn as nn\n",
    "import torch.optim as optim\n",
    "import torch.nn.functional as F\n",
    "from torchvision import transforms, datasets"
   ]
  },
  {
   "cell_type": "markdown",
   "id": "239060bb",
   "metadata": {},
   "source": [
    "# CNN을 통해 이미지를 학습시켜보자!!\n",
    "CV기술의 기본이 되는 Convolution의 개념을 알고 이미지 분류를 위한 인공신경망을 만들어보자\n",
    "---"
   ]
  },
  {
   "cell_type": "code",
   "execution_count": 2,
   "id": "853175d0",
   "metadata": {},
   "outputs": [],
   "source": [
    "USE_CUDA = torch.cuda.is_available()\n",
    "DEVICE = torch.device(\"cuda\" if USE_CUDA else \"cpu\")"
   ]
  },
  {
   "cell_type": "code",
   "execution_count": 3,
   "id": "124d0d5e",
   "metadata": {},
   "outputs": [],
   "source": [
    "#하이퍼 파라미터 설정\n",
    "EPOCHS = 40\n",
    "BATCH_SIZE = 64"
   ]
  },
  {
   "cell_type": "code",
   "execution_count": 4,
   "id": "bdefae8d",
   "metadata": {},
   "outputs": [
    {
     "name": "stdout",
     "output_type": "stream",
     "text": [
      "Downloading http://yann.lecun.com/exdb/mnist/train-images-idx3-ubyte.gz\n",
      "Downloading http://yann.lecun.com/exdb/mnist/train-images-idx3-ubyte.gz to ./.data\\MNIST\\raw\\train-images-idx3-ubyte.gz\n"
     ]
    },
    {
     "data": {
      "application/vnd.jupyter.widget-view+json": {
       "model_id": "b34365f6bba54b7586d28850c842a55a",
       "version_major": 2,
       "version_minor": 0
      },
      "text/plain": [
       "  0%|          | 0/9912422 [00:00<?, ?it/s]"
      ]
     },
     "metadata": {},
     "output_type": "display_data"
    },
    {
     "name": "stdout",
     "output_type": "stream",
     "text": [
      "Extracting ./.data\\MNIST\\raw\\train-images-idx3-ubyte.gz to ./.data\\MNIST\\raw\n",
      "\n",
      "Downloading http://yann.lecun.com/exdb/mnist/train-labels-idx1-ubyte.gz\n",
      "Downloading http://yann.lecun.com/exdb/mnist/train-labels-idx1-ubyte.gz to ./.data\\MNIST\\raw\\train-labels-idx1-ubyte.gz\n"
     ]
    },
    {
     "data": {
      "application/vnd.jupyter.widget-view+json": {
       "model_id": "672f12b24ce44d68902b38a2d0ad7e2b",
       "version_major": 2,
       "version_minor": 0
      },
      "text/plain": [
       "  0%|          | 0/28881 [00:00<?, ?it/s]"
      ]
     },
     "metadata": {},
     "output_type": "display_data"
    },
    {
     "name": "stdout",
     "output_type": "stream",
     "text": [
      "Extracting ./.data\\MNIST\\raw\\train-labels-idx1-ubyte.gz to ./.data\\MNIST\\raw\n",
      "\n",
      "Downloading http://yann.lecun.com/exdb/mnist/t10k-images-idx3-ubyte.gz\n",
      "Downloading http://yann.lecun.com/exdb/mnist/t10k-images-idx3-ubyte.gz to ./.data\\MNIST\\raw\\t10k-images-idx3-ubyte.gz\n"
     ]
    },
    {
     "data": {
      "application/vnd.jupyter.widget-view+json": {
       "model_id": "aa94cb4e4b8548739f149dab00c22ea3",
       "version_major": 2,
       "version_minor": 0
      },
      "text/plain": [
       "  0%|          | 0/1648877 [00:00<?, ?it/s]"
      ]
     },
     "metadata": {},
     "output_type": "display_data"
    },
    {
     "name": "stdout",
     "output_type": "stream",
     "text": [
      "Extracting ./.data\\MNIST\\raw\\t10k-images-idx3-ubyte.gz to ./.data\\MNIST\\raw\n",
      "\n",
      "Downloading http://yann.lecun.com/exdb/mnist/t10k-labels-idx1-ubyte.gz\n",
      "Downloading http://yann.lecun.com/exdb/mnist/t10k-labels-idx1-ubyte.gz to ./.data\\MNIST\\raw\\t10k-labels-idx1-ubyte.gz\n"
     ]
    },
    {
     "data": {
      "application/vnd.jupyter.widget-view+json": {
       "model_id": "2ac80c6390054876a1bd7b5350d65f2a",
       "version_major": 2,
       "version_minor": 0
      },
      "text/plain": [
       "  0%|          | 0/4542 [00:00<?, ?it/s]"
      ]
     },
     "metadata": {},
     "output_type": "display_data"
    },
    {
     "name": "stdout",
     "output_type": "stream",
     "text": [
      "Extracting ./.data\\MNIST\\raw\\t10k-labels-idx1-ubyte.gz to ./.data\\MNIST\\raw\n",
      "\n"
     ]
    }
   ],
   "source": [
    "#데이터 불러오기\n",
    "train_loader = torch.utils.data.DataLoader(\n",
    "    datasets.MNIST('./.data',\n",
    "                   train = True,\n",
    "                   download=True,\n",
    "                   transform =transforms.Compose([\n",
    "                       transforms.ToTensor(),\n",
    "                       transforms.Normalize((0.1307,),(0.3081,))\n",
    "                   ])),\n",
    "    batch_size = BATCH_SIZE, shuffle=True)\n",
    "\n",
    "test_loader = torch.utils.data.DataLoader(\n",
    "    datasets.MNIST('./.data',\n",
    "                   train=False,\n",
    "                   transform = transforms.Compose([\n",
    "                       transforms.ToTensor(),\n",
    "                       transforms.Normalize((0.1307,),(0.3081,))\n",
    "                   ])),\n",
    "    batch_size = BATCH_SIZE, shuffle=True)"
   ]
  },
  {
   "cell_type": "code",
   "execution_count": 5,
   "id": "dd824574",
   "metadata": {},
   "outputs": [],
   "source": [
    "#모델 선언하기\n",
    "class Net(nn.Module):\n",
    "    def __init__(self):\n",
    "        super(Net, self).__init__()\n",
    "        self.conv1 = nn.Conv2d(1,10,kernel_size=5)#1채널 이미지를 10채널 특징맵으로... 5x5 커널을 이용해 만들기!!\n",
    "        self.conv2 = nn.Conv2d(10,20,kernel_size=5)#10채널을 20채널로..\n",
    "        self.conv2_drop = nn.Dropout2d() #드롭아웃 선언하고\n",
    "        self.fc1 = nn.Linear(320,50) #입력값 고려해서 레이어 만들기\n",
    "        self.fc2 = nn.Linear(50,10) #출력값 고려해서 마지막 레이어 만들기\n",
    "    def forward(self,x):\n",
    "        x = F.relu(F.max_pool2d(self.conv1(x),2)) #conv1 이후 맥스 풀링 커널 사이즈는 2x2, 엑티베이션은 렐루!\n",
    "        x = F.relu(F.max_pool2d(self.conv2_drop(self.conv2(x)),2))\n",
    "        x = x.view(-1,320) #텐서 펴주기\n",
    "        x = F.relu(self.fc1(x)) \n",
    "        x = F.dropout(x,training=self.training) #드롭아웃하기\n",
    "        x = self.fc2(x)\n",
    "        return F.log_softmax(x,dim=1) #소프트맥스를 거쳐 반환"
   ]
  },
  {
   "cell_type": "code",
   "execution_count": 6,
   "id": "42ef9d90",
   "metadata": {},
   "outputs": [],
   "source": [
    "model = Net().to(DEVICE) #모델 생성하고\n",
    "optimizer = optim.SGD(model.parameters(),lr=0.01,momentum=0.5) #하이퍼 파라미터 정하기"
   ]
  },
  {
   "cell_type": "code",
   "execution_count": 7,
   "id": "01687ba3",
   "metadata": {},
   "outputs": [],
   "source": [
    "#모델을 학습 시키는 데피니션\n",
    "def train(model, train_loader,optimizer,epoch):\n",
    "    model.train()\n",
    "    for batch_idx, (data,target) in enumerate(train_loader):\n",
    "        data, target = data.to(DEVICE),target.to(DEVICE)\n",
    "        optimizer.zero_grad()\n",
    "        output = model(data)\n",
    "        loss = F.cross_entropy(output,target)\n",
    "        loss.backward()\n",
    "        optimizer.step()\n",
    "        \n",
    "        #학습이 얼마나 되었는지, 오차는 얼마인지 출력하는 코드\n",
    "        if batch_idx%200==0:\n",
    "            print('Train Epoch: {}[{}/{} ({:.0f}%)]\\tloss:{:.6f}'.format(\n",
    "                epoch,batch_idx*len(data),len(train_loader.dataset),100.*batch_idx/len(train_loader),loss.item()))"
   ]
  },
  {
   "cell_type": "code",
   "execution_count": 8,
   "id": "7cf60c69",
   "metadata": {},
   "outputs": [],
   "source": [
    "#모델의 성능을 검사하는 데피니션\n",
    "def evaluate(model, test_loader):\n",
    "    model.eval()\n",
    "    test_loss = 0\n",
    "    correct = 0\n",
    "    with torch.no_grad():\n",
    "        for data,target in test_loader:\n",
    "            data, target = data.to(DEVICE), target.to(DEVICE)\n",
    "            output = model(data)\n",
    "            \n",
    "            test_loss +=F.cross_entropy(output,target,reduction='sum').item()\n",
    "            \n",
    "            pred = output.max(1,keepdim=True)[1]\n",
    "            correct += pred.eq(target.view_as(pred)).sum().item()\n",
    "            \n",
    "    test_loss /= len(test_loader.dataset)\n",
    "    test_accuracy = 100.*correct/len(test_loader.dataset)\n",
    "    return test_loss, test_accuracy"
   ]
  },
  {
   "cell_type": "code",
   "execution_count": 9,
   "id": "87a6a3a8",
   "metadata": {},
   "outputs": [
    {
     "name": "stdout",
     "output_type": "stream",
     "text": [
      "Train Epoch: 1[0/60000 (0%)]\tloss:2.384162\n",
      "Train Epoch: 1[12800/60000 (21%)]\tloss:1.225545\n",
      "Train Epoch: 1[25600/60000 (43%)]\tloss:0.614739\n",
      "Train Epoch: 1[38400/60000 (64%)]\tloss:0.551042\n",
      "Train Epoch: 1[51200/60000 (85%)]\tloss:0.337811\n",
      "[1] Test Loss: 0.1862, Accuracy: 94.590000%\n",
      "Train Epoch: 2[0/60000 (0%)]\tloss:0.340572\n",
      "Train Epoch: 2[12800/60000 (21%)]\tloss:0.567270\n",
      "Train Epoch: 2[25600/60000 (43%)]\tloss:0.302098\n",
      "Train Epoch: 2[38400/60000 (64%)]\tloss:0.271652\n",
      "Train Epoch: 2[51200/60000 (85%)]\tloss:0.252258\n",
      "[2] Test Loss: 0.1256, Accuracy: 96.160000%\n",
      "Train Epoch: 3[0/60000 (0%)]\tloss:0.468850\n",
      "Train Epoch: 3[12800/60000 (21%)]\tloss:0.201984\n",
      "Train Epoch: 3[25600/60000 (43%)]\tloss:0.317321\n",
      "Train Epoch: 3[38400/60000 (64%)]\tloss:0.322195\n",
      "Train Epoch: 3[51200/60000 (85%)]\tloss:0.227535\n",
      "[3] Test Loss: 0.0928, Accuracy: 97.130000%\n",
      "Train Epoch: 4[0/60000 (0%)]\tloss:0.223916\n",
      "Train Epoch: 4[12800/60000 (21%)]\tloss:0.149008\n",
      "Train Epoch: 4[25600/60000 (43%)]\tloss:0.190800\n",
      "Train Epoch: 4[38400/60000 (64%)]\tloss:0.200788\n",
      "Train Epoch: 4[51200/60000 (85%)]\tloss:0.372817\n",
      "[4] Test Loss: 0.0823, Accuracy: 97.360000%\n",
      "Train Epoch: 5[0/60000 (0%)]\tloss:0.145698\n",
      "Train Epoch: 5[12800/60000 (21%)]\tloss:0.233393\n",
      "Train Epoch: 5[25600/60000 (43%)]\tloss:0.304375\n",
      "Train Epoch: 5[38400/60000 (64%)]\tloss:0.227108\n",
      "Train Epoch: 5[51200/60000 (85%)]\tloss:0.151003\n",
      "[5] Test Loss: 0.0704, Accuracy: 97.680000%\n",
      "Train Epoch: 6[0/60000 (0%)]\tloss:0.197537\n",
      "Train Epoch: 6[12800/60000 (21%)]\tloss:0.203876\n",
      "Train Epoch: 6[25600/60000 (43%)]\tloss:0.171461\n",
      "Train Epoch: 6[38400/60000 (64%)]\tloss:0.119964\n",
      "Train Epoch: 6[51200/60000 (85%)]\tloss:0.212705\n",
      "[6] Test Loss: 0.0680, Accuracy: 97.880000%\n",
      "Train Epoch: 7[0/60000 (0%)]\tloss:0.147207\n",
      "Train Epoch: 7[12800/60000 (21%)]\tloss:0.248146\n",
      "Train Epoch: 7[25600/60000 (43%)]\tloss:0.210776\n",
      "Train Epoch: 7[38400/60000 (64%)]\tloss:0.119777\n",
      "Train Epoch: 7[51200/60000 (85%)]\tloss:0.170990\n",
      "[7] Test Loss: 0.0605, Accuracy: 98.040000%\n",
      "Train Epoch: 8[0/60000 (0%)]\tloss:0.390330\n",
      "Train Epoch: 8[12800/60000 (21%)]\tloss:0.141675\n",
      "Train Epoch: 8[25600/60000 (43%)]\tloss:0.230137\n",
      "Train Epoch: 8[38400/60000 (64%)]\tloss:0.067614\n",
      "Train Epoch: 8[51200/60000 (85%)]\tloss:0.097612\n",
      "[8] Test Loss: 0.0528, Accuracy: 98.400000%\n",
      "Train Epoch: 9[0/60000 (0%)]\tloss:0.225412\n",
      "Train Epoch: 9[12800/60000 (21%)]\tloss:0.268887\n",
      "Train Epoch: 9[25600/60000 (43%)]\tloss:0.043490\n",
      "Train Epoch: 9[38400/60000 (64%)]\tloss:0.112813\n",
      "Train Epoch: 9[51200/60000 (85%)]\tloss:0.179772\n",
      "[9] Test Loss: 0.0523, Accuracy: 98.330000%\n",
      "Train Epoch: 10[0/60000 (0%)]\tloss:0.220126\n",
      "Train Epoch: 10[12800/60000 (21%)]\tloss:0.188336\n",
      "Train Epoch: 10[25600/60000 (43%)]\tloss:0.120624\n",
      "Train Epoch: 10[38400/60000 (64%)]\tloss:0.080218\n",
      "Train Epoch: 10[51200/60000 (85%)]\tloss:0.149128\n",
      "[10] Test Loss: 0.0505, Accuracy: 98.460000%\n",
      "Train Epoch: 11[0/60000 (0%)]\tloss:0.224318\n",
      "Train Epoch: 11[12800/60000 (21%)]\tloss:0.122489\n",
      "Train Epoch: 11[25600/60000 (43%)]\tloss:0.177953\n",
      "Train Epoch: 11[38400/60000 (64%)]\tloss:0.092983\n",
      "Train Epoch: 11[51200/60000 (85%)]\tloss:0.229713\n",
      "[11] Test Loss: 0.0463, Accuracy: 98.620000%\n",
      "Train Epoch: 12[0/60000 (0%)]\tloss:0.137725\n",
      "Train Epoch: 12[12800/60000 (21%)]\tloss:0.206389\n",
      "Train Epoch: 12[25600/60000 (43%)]\tloss:0.109911\n",
      "Train Epoch: 12[38400/60000 (64%)]\tloss:0.351619\n",
      "Train Epoch: 12[51200/60000 (85%)]\tloss:0.108013\n",
      "[12] Test Loss: 0.0460, Accuracy: 98.700000%\n",
      "Train Epoch: 13[0/60000 (0%)]\tloss:0.299989\n",
      "Train Epoch: 13[12800/60000 (21%)]\tloss:0.191823\n",
      "Train Epoch: 13[25600/60000 (43%)]\tloss:0.363508\n",
      "Train Epoch: 13[38400/60000 (64%)]\tloss:0.177593\n",
      "Train Epoch: 13[51200/60000 (85%)]\tloss:0.249453\n",
      "[13] Test Loss: 0.0465, Accuracy: 98.530000%\n",
      "Train Epoch: 14[0/60000 (0%)]\tloss:0.061448\n",
      "Train Epoch: 14[12800/60000 (21%)]\tloss:0.077883\n",
      "Train Epoch: 14[25600/60000 (43%)]\tloss:0.137032\n",
      "Train Epoch: 14[38400/60000 (64%)]\tloss:0.061690\n",
      "Train Epoch: 14[51200/60000 (85%)]\tloss:0.141009\n",
      "[14] Test Loss: 0.0466, Accuracy: 98.540000%\n",
      "Train Epoch: 15[0/60000 (0%)]\tloss:0.168075\n",
      "Train Epoch: 15[12800/60000 (21%)]\tloss:0.049338\n",
      "Train Epoch: 15[25600/60000 (43%)]\tloss:0.244871\n",
      "Train Epoch: 15[38400/60000 (64%)]\tloss:0.206183\n",
      "Train Epoch: 15[51200/60000 (85%)]\tloss:0.185006\n",
      "[15] Test Loss: 0.0448, Accuracy: 98.560000%\n",
      "Train Epoch: 16[0/60000 (0%)]\tloss:0.174862\n",
      "Train Epoch: 16[12800/60000 (21%)]\tloss:0.146226\n",
      "Train Epoch: 16[25600/60000 (43%)]\tloss:0.114414\n",
      "Train Epoch: 16[38400/60000 (64%)]\tloss:0.094581\n",
      "Train Epoch: 16[51200/60000 (85%)]\tloss:0.262439\n",
      "[16] Test Loss: 0.0422, Accuracy: 98.620000%\n",
      "Train Epoch: 17[0/60000 (0%)]\tloss:0.214852\n",
      "Train Epoch: 17[12800/60000 (21%)]\tloss:0.091778\n",
      "Train Epoch: 17[25600/60000 (43%)]\tloss:0.085928\n",
      "Train Epoch: 17[38400/60000 (64%)]\tloss:0.086648\n",
      "Train Epoch: 17[51200/60000 (85%)]\tloss:0.110317\n",
      "[17] Test Loss: 0.0425, Accuracy: 98.690000%\n",
      "Train Epoch: 18[0/60000 (0%)]\tloss:0.122666\n",
      "Train Epoch: 18[12800/60000 (21%)]\tloss:0.132731\n",
      "Train Epoch: 18[25600/60000 (43%)]\tloss:0.093117\n",
      "Train Epoch: 18[38400/60000 (64%)]\tloss:0.333217\n",
      "Train Epoch: 18[51200/60000 (85%)]\tloss:0.078890\n",
      "[18] Test Loss: 0.0413, Accuracy: 98.680000%\n",
      "Train Epoch: 19[0/60000 (0%)]\tloss:0.118101\n",
      "Train Epoch: 19[12800/60000 (21%)]\tloss:0.149128\n",
      "Train Epoch: 19[25600/60000 (43%)]\tloss:0.132607\n",
      "Train Epoch: 19[38400/60000 (64%)]\tloss:0.196049\n",
      "Train Epoch: 19[51200/60000 (85%)]\tloss:0.097325\n",
      "[19] Test Loss: 0.0403, Accuracy: 98.700000%\n",
      "Train Epoch: 20[0/60000 (0%)]\tloss:0.071078\n",
      "Train Epoch: 20[12800/60000 (21%)]\tloss:0.164223\n",
      "Train Epoch: 20[25600/60000 (43%)]\tloss:0.074727\n",
      "Train Epoch: 20[38400/60000 (64%)]\tloss:0.079568\n",
      "Train Epoch: 20[51200/60000 (85%)]\tloss:0.145944\n",
      "[20] Test Loss: 0.0386, Accuracy: 98.750000%\n",
      "Train Epoch: 21[0/60000 (0%)]\tloss:0.027366\n",
      "Train Epoch: 21[12800/60000 (21%)]\tloss:0.133304\n",
      "Train Epoch: 21[25600/60000 (43%)]\tloss:0.093643\n",
      "Train Epoch: 21[38400/60000 (64%)]\tloss:0.117127\n",
      "Train Epoch: 21[51200/60000 (85%)]\tloss:0.086999\n",
      "[21] Test Loss: 0.0398, Accuracy: 98.780000%\n",
      "Train Epoch: 22[0/60000 (0%)]\tloss:0.099604\n",
      "Train Epoch: 22[12800/60000 (21%)]\tloss:0.126151\n",
      "Train Epoch: 22[25600/60000 (43%)]\tloss:0.060341\n",
      "Train Epoch: 22[38400/60000 (64%)]\tloss:0.030777\n",
      "Train Epoch: 22[51200/60000 (85%)]\tloss:0.104310\n",
      "[22] Test Loss: 0.0378, Accuracy: 98.830000%\n",
      "Train Epoch: 23[0/60000 (0%)]\tloss:0.067526\n",
      "Train Epoch: 23[12800/60000 (21%)]\tloss:0.258479\n",
      "Train Epoch: 23[25600/60000 (43%)]\tloss:0.129295\n",
      "Train Epoch: 23[38400/60000 (64%)]\tloss:0.379527\n",
      "Train Epoch: 23[51200/60000 (85%)]\tloss:0.050264\n",
      "[23] Test Loss: 0.0367, Accuracy: 98.980000%\n",
      "Train Epoch: 24[0/60000 (0%)]\tloss:0.135634\n",
      "Train Epoch: 24[12800/60000 (21%)]\tloss:0.119204\n",
      "Train Epoch: 24[25600/60000 (43%)]\tloss:0.091835\n",
      "Train Epoch: 24[38400/60000 (64%)]\tloss:0.100177\n",
      "Train Epoch: 24[51200/60000 (85%)]\tloss:0.309418\n",
      "[24] Test Loss: 0.0363, Accuracy: 98.900000%\n",
      "Train Epoch: 25[0/60000 (0%)]\tloss:0.127148\n",
      "Train Epoch: 25[12800/60000 (21%)]\tloss:0.160130\n",
      "Train Epoch: 25[25600/60000 (43%)]\tloss:0.095490\n",
      "Train Epoch: 25[38400/60000 (64%)]\tloss:0.044768\n",
      "Train Epoch: 25[51200/60000 (85%)]\tloss:0.115003\n",
      "[25] Test Loss: 0.0352, Accuracy: 98.900000%\n",
      "Train Epoch: 26[0/60000 (0%)]\tloss:0.110849\n",
      "Train Epoch: 26[12800/60000 (21%)]\tloss:0.050724\n",
      "Train Epoch: 26[25600/60000 (43%)]\tloss:0.074759\n",
      "Train Epoch: 26[38400/60000 (64%)]\tloss:0.108144\n",
      "Train Epoch: 26[51200/60000 (85%)]\tloss:0.041436\n",
      "[26] Test Loss: 0.0359, Accuracy: 98.880000%\n",
      "Train Epoch: 27[0/60000 (0%)]\tloss:0.208651\n",
      "Train Epoch: 27[12800/60000 (21%)]\tloss:0.038666\n",
      "Train Epoch: 27[25600/60000 (43%)]\tloss:0.095238\n",
      "Train Epoch: 27[38400/60000 (64%)]\tloss:0.071577\n",
      "Train Epoch: 27[51200/60000 (85%)]\tloss:0.038931\n",
      "[27] Test Loss: 0.0361, Accuracy: 98.860000%\n",
      "Train Epoch: 28[0/60000 (0%)]\tloss:0.276769\n",
      "Train Epoch: 28[12800/60000 (21%)]\tloss:0.063853\n",
      "Train Epoch: 28[25600/60000 (43%)]\tloss:0.119769\n",
      "Train Epoch: 28[38400/60000 (64%)]\tloss:0.085915\n",
      "Train Epoch: 28[51200/60000 (85%)]\tloss:0.085733\n",
      "[28] Test Loss: 0.0330, Accuracy: 98.950000%\n",
      "Train Epoch: 29[0/60000 (0%)]\tloss:0.085967\n",
      "Train Epoch: 29[12800/60000 (21%)]\tloss:0.190218\n",
      "Train Epoch: 29[25600/60000 (43%)]\tloss:0.093131\n",
      "Train Epoch: 29[38400/60000 (64%)]\tloss:0.154397\n",
      "Train Epoch: 29[51200/60000 (85%)]\tloss:0.148555\n",
      "[29] Test Loss: 0.0331, Accuracy: 99.000000%\n",
      "Train Epoch: 30[0/60000 (0%)]\tloss:0.080805\n"
     ]
    },
    {
     "name": "stdout",
     "output_type": "stream",
     "text": [
      "Train Epoch: 30[12800/60000 (21%)]\tloss:0.150374\n",
      "Train Epoch: 30[25600/60000 (43%)]\tloss:0.032207\n",
      "Train Epoch: 30[38400/60000 (64%)]\tloss:0.049023\n",
      "Train Epoch: 30[51200/60000 (85%)]\tloss:0.109272\n",
      "[30] Test Loss: 0.0346, Accuracy: 98.880000%\n",
      "Train Epoch: 31[0/60000 (0%)]\tloss:0.126692\n",
      "Train Epoch: 31[12800/60000 (21%)]\tloss:0.125481\n",
      "Train Epoch: 31[25600/60000 (43%)]\tloss:0.128112\n",
      "Train Epoch: 31[38400/60000 (64%)]\tloss:0.059534\n",
      "Train Epoch: 31[51200/60000 (85%)]\tloss:0.049484\n",
      "[31] Test Loss: 0.0343, Accuracy: 98.940000%\n",
      "Train Epoch: 32[0/60000 (0%)]\tloss:0.056619\n",
      "Train Epoch: 32[12800/60000 (21%)]\tloss:0.022872\n",
      "Train Epoch: 32[25600/60000 (43%)]\tloss:0.050299\n",
      "Train Epoch: 32[38400/60000 (64%)]\tloss:0.101238\n",
      "Train Epoch: 32[51200/60000 (85%)]\tloss:0.033201\n",
      "[32] Test Loss: 0.0320, Accuracy: 98.980000%\n",
      "Train Epoch: 33[0/60000 (0%)]\tloss:0.105006\n",
      "Train Epoch: 33[12800/60000 (21%)]\tloss:0.109898\n",
      "Train Epoch: 33[25600/60000 (43%)]\tloss:0.197904\n",
      "Train Epoch: 33[38400/60000 (64%)]\tloss:0.076783\n",
      "Train Epoch: 33[51200/60000 (85%)]\tloss:0.203848\n",
      "[33] Test Loss: 0.0323, Accuracy: 99.030000%\n",
      "Train Epoch: 34[0/60000 (0%)]\tloss:0.040880\n",
      "Train Epoch: 34[12800/60000 (21%)]\tloss:0.121165\n",
      "Train Epoch: 34[25600/60000 (43%)]\tloss:0.251492\n",
      "Train Epoch: 34[38400/60000 (64%)]\tloss:0.023625\n",
      "Train Epoch: 34[51200/60000 (85%)]\tloss:0.072026\n",
      "[34] Test Loss: 0.0312, Accuracy: 98.970000%\n",
      "Train Epoch: 35[0/60000 (0%)]\tloss:0.064816\n",
      "Train Epoch: 35[12800/60000 (21%)]\tloss:0.169552\n",
      "Train Epoch: 35[25600/60000 (43%)]\tloss:0.112854\n",
      "Train Epoch: 35[38400/60000 (64%)]\tloss:0.109708\n",
      "Train Epoch: 35[51200/60000 (85%)]\tloss:0.174264\n",
      "[35] Test Loss: 0.0327, Accuracy: 98.980000%\n",
      "Train Epoch: 36[0/60000 (0%)]\tloss:0.036215\n",
      "Train Epoch: 36[12800/60000 (21%)]\tloss:0.084766\n",
      "Train Epoch: 36[25600/60000 (43%)]\tloss:0.056389\n",
      "Train Epoch: 36[38400/60000 (64%)]\tloss:0.212371\n",
      "Train Epoch: 36[51200/60000 (85%)]\tloss:0.202930\n",
      "[36] Test Loss: 0.0320, Accuracy: 99.040000%\n",
      "Train Epoch: 37[0/60000 (0%)]\tloss:0.168522\n",
      "Train Epoch: 37[12800/60000 (21%)]\tloss:0.134275\n",
      "Train Epoch: 37[25600/60000 (43%)]\tloss:0.185210\n",
      "Train Epoch: 37[38400/60000 (64%)]\tloss:0.096591\n",
      "Train Epoch: 37[51200/60000 (85%)]\tloss:0.035047\n",
      "[37] Test Loss: 0.0326, Accuracy: 98.910000%\n",
      "Train Epoch: 38[0/60000 (0%)]\tloss:0.121947\n",
      "Train Epoch: 38[12800/60000 (21%)]\tloss:0.059187\n",
      "Train Epoch: 38[25600/60000 (43%)]\tloss:0.133177\n",
      "Train Epoch: 38[38400/60000 (64%)]\tloss:0.127027\n",
      "Train Epoch: 38[51200/60000 (85%)]\tloss:0.116744\n",
      "[38] Test Loss: 0.0316, Accuracy: 99.000000%\n",
      "Train Epoch: 39[0/60000 (0%)]\tloss:0.139775\n",
      "Train Epoch: 39[12800/60000 (21%)]\tloss:0.074350\n",
      "Train Epoch: 39[25600/60000 (43%)]\tloss:0.088064\n",
      "Train Epoch: 39[38400/60000 (64%)]\tloss:0.229774\n",
      "Train Epoch: 39[51200/60000 (85%)]\tloss:0.120830\n",
      "[39] Test Loss: 0.0308, Accuracy: 98.960000%\n",
      "Train Epoch: 40[0/60000 (0%)]\tloss:0.067127\n",
      "Train Epoch: 40[12800/60000 (21%)]\tloss:0.116730\n",
      "Train Epoch: 40[25600/60000 (43%)]\tloss:0.048885\n",
      "Train Epoch: 40[38400/60000 (64%)]\tloss:0.050175\n",
      "Train Epoch: 40[51200/60000 (85%)]\tloss:0.101694\n",
      "[40] Test Loss: 0.0325, Accuracy: 98.900000%\n"
     ]
    }
   ],
   "source": [
    "#학습한 후 성능 검사하기!!\n",
    "for epoch in range(1, EPOCHS+1):\n",
    "    train(model, train_loader,optimizer,epoch)\n",
    "    test_loss,test_accuracy = evaluate(model,test_loader)\n",
    "    \n",
    "    print('[{}] Test Loss: {:.4f}, Accuracy: {:2f}%'.format(epoch, test_loss, test_accuracy))"
   ]
  },
  {
   "cell_type": "markdown",
   "id": "9fc0c845",
   "metadata": {},
   "source": [
    "DNN으로 돌렸을땐 약 97.3%의 정확도를 가지지만 CNN은 98.9%의 정확도를 가진다.\n",
    "---"
   ]
  }
 ],
 "metadata": {
  "kernelspec": {
   "display_name": "Python 3 (ipykernel)",
   "language": "python",
   "name": "python3"
  },
  "language_info": {
   "codemirror_mode": {
    "name": "ipython",
    "version": 3
   },
   "file_extension": ".py",
   "mimetype": "text/x-python",
   "name": "python",
   "nbconvert_exporter": "python",
   "pygments_lexer": "ipython3",
   "version": "3.8.3"
  }
 },
 "nbformat": 4,
 "nbformat_minor": 5
}
